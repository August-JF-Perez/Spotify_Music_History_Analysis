{
 "cells": [
  {
   "cell_type": "markdown",
   "id": "51f9d7e7-2d0a-4438-9458-360a1dbf5ee7",
   "metadata": {},
   "source": [
    "# Initial Exploration of Music Trends of a User"
   ]
  },
  {
   "cell_type": "markdown",
   "id": "83e53e0e-bc80-43d6-b11c-48477b027a58",
   "metadata": {},
   "source": [
    "# Imports"
   ]
  },
  {
   "cell_type": "code",
   "execution_count": null,
   "id": "5f4a945f-8b9a-4572-bbe4-7f406e19616b",
   "metadata": {},
   "outputs": [],
   "source": [
    "import numpy as np\n",
    "import pandas as pd\n",
    "pd.set_option('display.max_columns', None)\n",
    "pd.set_option('display.max_colwidth', None)\n",
    "import datetime as dt\n",
    "\n",
    "import matplotlib.pyplot as plt\n",
    "import seaborn as sns\n",
    "\n",
    "import warnings\n",
    "warnings.simplefilter(action='ignore', category=FutureWarning)"
   ]
  },
  {
   "cell_type": "markdown",
   "id": "1de4ac2d-3561-4b5e-b36a-3ee39ef5986b",
   "metadata": {},
   "source": [
    "Note: This Notebook was wriiten on a wide monitor, it is possible that cell output is not optimized for smaller screens"
   ]
  },
  {
   "cell_type": "markdown",
   "id": "f72ad8fc-926b-49bd-8d5c-6930bcb0267f",
   "metadata": {},
   "source": [
    "# Data File Imports"
   ]
  },
  {
   "cell_type": "markdown",
   "id": "453f60b8-74a0-4b0e-883b-057ee7f6ce81",
   "metadata": {
    "jp-MarkdownHeadingCollapsed": true
   },
   "source": [
    "## Unused cells\n",
    "    Converted to RAW format cells so that code doesn't execute"
   ]
  },
  {
   "cell_type": "markdown",
   "id": "61205ec0-b577-4a62-8f32-da8bb59e2036",
   "metadata": {},
   "source": [
    "### Original Data Imports"
   ]
  },
  {
   "cell_type": "raw",
   "id": "8d8b4cc0-7eb1-4ba5-9697-1ebdf6f26314",
   "metadata": {},
   "source": [
    "#Converted to non-coding cell. A file with all data combined was created and will be loaded in to a) reduce notebook clutter and b) use less memery (not a major concern currently but may help future uses of this NB with larger dataset)\n",
    "\n",
    "hist_16_17 = pd.read_json('Data/Streaming_History_Audio_2016-2017_0.json')\n",
    "hist_17_18 = pd.read_json('Data/Streaming_History_Audio_2017-2018_1.json')\n",
    "hist_18_19 = pd.read_json('Data/Streaming_History_Audio_2018-2019_2.json')\n",
    "hist_19 = pd.read_json('Data/Streaming_History_Audio_2019_3.json')\n",
    "hist_19_20 = pd.read_json('Data/Streaming_History_Audio_2019-2020_4.json')\n",
    "hist_20 = pd.read_json('Data/Streaming_History_Audio_2020_5.json')\n",
    "hist_20_21 = pd.read_json('Data/Streaming_History_Audio_2020-2021_6.json')\n",
    "hist_21_22 = pd.read_json('Data/Streaming_History_Audio_2021-2022_7.json')\n",
    "hist_22 = pd.read_json('Data/Streaming_History_Audio_2022_8.json')\n",
    "hist_22_23 = pd.read_json('Data/Streaming_History_Audio_2022-2023_9.json')\n",
    "hist_23_24 = pd.read_json('Data/Streaming_History_Audio_2023-2024_10.json')\n",
    "hist_24a = pd.read_json('Data/Streaming_History_Audio_2024_11.json')\n",
    "hist_24b = pd.read_json('Data/Streaming_History_Audio_2024_12.json')"
   ]
  },
  {
   "cell_type": "raw",
   "id": "07f572f4-cf6a-4f59-ade7-c277ce04f306",
   "metadata": {},
   "source": [
    "#Converted to non-coding cell.\n",
    "\n",
    "print('hist_16_17')\n",
    "print(hist_16_17.info())\n",
    "print('\\n hist_17_18')\n",
    "print(hist_17_18.info())\n",
    "print('\\n hist_18_19')\n",
    "print(hist_18_19.info())\n",
    "print('\\n hist_19')\n",
    "print(hist_19.info())\n",
    "print('\\n hist_19_20')\n",
    "print(hist_19_20.info())\n",
    "print('\\n hist_20')\n",
    "print(hist_20.info())\n",
    "print('\\n hist_20_21')\n",
    "print(hist_20_21.info())\n",
    "print('\\n hist_21_22')\n",
    "print(hist_21_22.info())\n",
    "print('\\n hist_22')\n",
    "print(hist_22.info())\n",
    "print('\\n hist_22_23')\n",
    "print(hist_22_23.info())\n",
    "print('\\n hist_23_24')\n",
    "print(hist_23_24.info())\n",
    "print('\\n hist_24a')\n",
    "print(hist_24a.info())\n",
    "print('\\n hist_24b')\n",
    "print(hist_24b.info())"
   ]
  },
  {
   "cell_type": "raw",
   "id": "dfde5f39-051e-4dce-9245-fd902be4158f",
   "metadata": {},
   "source": [
    "#Converted to non-coding cell.\n",
    "\n",
    "#for checking against combined df of all seperate df's\n",
    "tot_rows_sep = sum([len(hist_16_17), len(hist_17_18), len(hist_18_19), len(hist_19), len(hist_19_20), len(hist_20), len(hist_20_21), len(hist_21_22), len(hist_22), len(hist_22_23), len(hist_23_24), len(hist_24a), len(hist_24b)])\n",
    "print(\"Total rows from all df's:\", tot_rows_sep)\n",
    "\n",
    "#output: 197188"
   ]
  },
  {
   "cell_type": "markdown",
   "id": "ccc08ecc-d654-4418-ac55-7e3382981f19",
   "metadata": {},
   "source": [
    "### Combine into a single DF\n",
    "    - Can seperate by date or other criteria as needed\n",
    "    - Easier to drop unneeded cols from all df's\n",
    "    - Export as a JSON so that I can reduce total code of notebook\n",
    "        - Convert prev. cells to non-coding cells and simply import the full_history file"
   ]
  },
  {
   "cell_type": "raw",
   "id": "33c9461e-4990-48aa-86dd-130621f5a507",
   "metadata": {},
   "source": [
    "df_music = pd.concat([hist_16_17, hist_17_18, hist_18_19, hist_19, hist_19_20, hist_20, hist_20_21, hist_21_22, hist_22, hist_22_23, hist_23_24, hist_24a, hist_24b], ignore_index=True)"
   ]
  },
  {
   "cell_type": "raw",
   "id": "20d73ccf-a328-4a2b-917c-4b8ecfa22d5b",
   "metadata": {},
   "source": [
    "df_music.info()"
   ]
  },
  {
   "cell_type": "markdown",
   "id": "7f57f340-e876-424f-aa64-f9f7e804a76d",
   "metadata": {},
   "source": [
    "Confirmed that cols are shared across all df's"
   ]
  },
  {
   "cell_type": "markdown",
   "id": "2760e1a2-e622-46a3-af90-ca4a8b50164f",
   "metadata": {},
   "source": [
    "### Export as a file\n",
    "Keeping as JSON for consistency with other files, otherwise arbitrary choice."
   ]
  },
  {
   "cell_type": "raw",
   "id": "59e318f9-9682-479a-bde7-460b20e77573",
   "metadata": {},
   "source": [
    "Converted to non-coding cell. This step is completed and does not need to be repeated\n",
    "\n",
    "df_music.to_json('All_Streaming_History_Audio_2016-2024.json')"
   ]
  },
  {
   "cell_type": "markdown",
   "id": "bd66603c-aef5-41ee-b5a2-517244329c6e",
   "metadata": {},
   "source": [
    "## In-Use Cells"
   ]
  },
  {
   "cell_type": "markdown",
   "id": "b2173cf3-7e74-4478-a416-0604318a9aff",
   "metadata": {},
   "source": [
    "**For col descriptions, see file \"ReadMeFirst_ExtendedStreamingHistory.pdf\" included in this project**"
   ]
  },
  {
   "cell_type": "code",
   "execution_count": null,
   "id": "7026bdd6-4ee8-49ec-9e39-24881dfbadbe",
   "metadata": {},
   "outputs": [],
   "source": [
    "df_music = pd.read_json('Data/All_Streaming_History_Audio_2016-2024.json')"
   ]
  },
  {
   "cell_type": "code",
   "execution_count": null,
   "id": "91cd73b4-5b69-4cdd-b0eb-7d5622ef1690",
   "metadata": {},
   "outputs": [],
   "source": [
    "print(df_music.info())\n",
    "df_music.head()"
   ]
  },
  {
   "cell_type": "markdown",
   "id": "ef54fbb4-7e7d-465d-860e-52053e201b42",
   "metadata": {},
   "source": [
    "# Early Observations/Notes"
   ]
  },
  {
   "cell_type": "markdown",
   "id": "5a4fb540-e1ef-4bca-b79e-e0056ed84d1d",
   "metadata": {},
   "source": [
    "Tentative plans for each col\n",
    "- \"ts\"\n",
    "    - convert to datetime\n",
    "    - Best if split into seperate date & time cols\n",
    "- \"username\"\n",
    "    - **drop**\n",
    "    - will have only 1 unique value (because all data is from my own spotify history)\n",
    "    - I will plan to drop this col seperately from other code so that it can be easily converted to non-code format if more than a single user is included in the analysis\n",
    "- \"platform\"\n",
    "    - **drop**\n",
    "    - No apparent use for which platform is used in a music trends analysis\n",
    "- \"ms_played\"\n",
    "    - convert to datetime (time specifically)\n",
    "    - Interested in accuracy to the second. No apparent reason for more accuracy\n",
    "- 'conn_country'\n",
    "    - **drop**\n",
    "    - All same value (US)\n",
    "- 'ip_addr_decrypted'\n",
    "    - **drop**, col is N/A\n",
    "- 'user_agent_decrypted'\n",
    "    - Needs looking into. Could all be same value or maybe hold helpful info\n",
    "- 'master_metadata_track_name'\n",
    "    - change col name to \"track_name\"\n",
    "- 'master_metadata_album_artist_name'\n",
    "    - change col name to \"artist_name\"\n",
    "- 'master_metadata_album_album_name'\n",
    "    - change col name to \"album_name\"\n",
    "    - Potentially drop.\n",
    "        - I don't usually care about which album a song is from when I listen to it.\n",
    "        - If combined with release date, some patterns may be able to be found\n",
    "- 'spotify_track_uri'\n",
    "    - Will be helpful if/when futher information about the needs to be found\n",
    "    - Will be helpful for when song recommendation algroithm is built\n",
    "    - Can be helpful for spotify_better_shuffler project\n",
    "- 'episode_name'\n",
    "    - **drop**, col is N/A\n",
    "- 'episode_show_name'\n",
    "    - **drop**, col is N/A\n",
    "- 'spotify_episode_uri'\n",
    "    - **drop**, col is N/A\n",
    "- 'reason_start'\n",
    "    - Need to determine meaning for all values (not fully elaborated in Spotify provided document)\n",
    "- 'reason_end'\n",
    "    - Need to determine meaning for all values (not fully elaborated in Spotify provided document)\n",
    "- 'shuffle'\n",
    "    - keep\n",
    "- 'skipped'\n",
    "    - keep\n",
    "    - There are NaN values\n",
    "    - Needs investigation if NaN equates to \"No\"\n",
    "- 'offline'\n",
    "    - Will be a fairly reliable indicator of if the song is included in my \"Liked\" songs playlist\n",
    "        - My personal \"offline\" strategy for spotify is to keep my \"Liked\" songs playlist downloaded to my device(s)\n",
    "        - It is a recent development that I have other playlists downloaded to devices for offline use\n",
    "            - Estimated start of Jan 2023 (more likely March or May but as I am unsure, I will default to JAN)\n",
    "- 'offline_timestamp'\n",
    "    - Needs looking into.\n",
    "- 'incognito_mode'\n",
    "    - **Drop**\n",
    "    - No apparent use in a music trends analysis\n",
    "\n",
    "**Desired Information**\n",
    "- Release dates of songs or albums\n",
    "- Decade that the music was released in\n",
    "    - Can help detect patterns in preferences\n",
    "- genre that spotify assigns to the track\n",
    "    - OR All of the genre tags that spotify has labeled the track with\n",
    "- "
   ]
  },
  {
   "cell_type": "markdown",
   "id": "362761c1-587f-47c1-b267-d3a500a890ac",
   "metadata": {},
   "source": [
    "# Early Cleaning\n",
    "\n",
    "- Removing information that is obviously not applicable to the analysis\n",
    "- "
   ]
  },
  {
   "cell_type": "markdown",
   "id": "049f9acd-5217-4397-9916-97784532c24b",
   "metadata": {},
   "source": [
    "## Drop Cols Round 1"
   ]
  },
  {
   "cell_type": "code",
   "execution_count": null,
   "id": "7560e1b5-c1eb-4e19-b0c3-0905002f0b4b",
   "metadata": {},
   "outputs": [],
   "source": [
    "df_music = df_music.drop([\"platform\", 'conn_country', 'ip_addr_decrypted', 'episode_name', 'episode_show_name', 'spotify_episode_uri', 'incognito_mode'], axis=1, errors=\"ignore\")\n",
    "    #errors=\"ignore\" to avoid hiccups if running the cell again"
   ]
  },
  {
   "cell_type": "markdown",
   "id": "f26f12c7-a586-48a4-846e-2964c4516202",
   "metadata": {},
   "source": [
    "### Drop username col\n",
    "\n",
    "**If more than 1 user being analyzed:** Prevent code execution"
   ]
  },
  {
   "cell_type": "code",
   "execution_count": null,
   "id": "a49dd41f-88d3-4d34-b83f-f1152ec12279",
   "metadata": {},
   "outputs": [],
   "source": [
    "df_music = df_music.drop([\"username\"], axis=1, errors=\"ignore\")"
   ]
  },
  {
   "cell_type": "code",
   "execution_count": null,
   "id": "372d86e8-23e8-461e-b52b-4b863361fc5a",
   "metadata": {},
   "outputs": [],
   "source": [
    "df_music.head()"
   ]
  },
  {
   "cell_type": "markdown",
   "id": "4f609449-90ab-4c96-aa7e-c10d3338a53c",
   "metadata": {},
   "source": [
    "## Investigate cols that need keep/drop determination\n",
    "\n",
    "'user_agent_decrypted' , 'offline_timestamp'"
   ]
  },
  {
   "cell_type": "raw",
   "id": "85b667e9-c9de-42bd-9489-0f6e31ad8529",
   "metadata": {},
   "source": [
    "#Converted to RAW cell to reduce notebook clutter. Output has no effect on NB outcomes\n",
    "\n",
    "df_music['user_agent_decrypted'].value_counts().sort_values(ascending=False)"
   ]
  },
  {
   "cell_type": "raw",
   "id": "db3c64b0-e010-4f65-b22b-461b6fd4837a",
   "metadata": {},
   "source": [
    "#Converted to RAW cell to reduce notebook clutter. Output has no effect on NB outcomes\n",
    "\n",
    "df_music['offline_timestamp'].value_counts().sort_values(ascending=False)"
   ]
  },
  {
   "cell_type": "markdown",
   "id": "5d7eff2c-fdb2-4ba3-892f-fb7118cf5961",
   "metadata": {},
   "source": [
    "Determinations:\n",
    "- 'user_agent_decrypted'\n",
    "    - Drop\n",
    "    - \"unknown\" value is vast majority and other values don't apply to music trend analysis\n",
    "    - Empty string is second majority value\n",
    "- 'offline_timestamp'\n",
    "    - Drop\n",
    "    - Value of 0 (zero) is vast majority at 38408 records, value of 1 is second most majority at 306 records"
   ]
  },
  {
   "cell_type": "markdown",
   "id": "50fbe96c-f600-4e82-a0aa-04b715f401f3",
   "metadata": {},
   "source": [
    "## Drop Rows Round 2"
   ]
  },
  {
   "cell_type": "code",
   "execution_count": null,
   "id": "f81bf595-2ad9-41bf-80b7-fcd3d34dd5c0",
   "metadata": {},
   "outputs": [],
   "source": [
    "df_music = df_music.drop(['user_agent_decrypted', 'offline_timestamp'], axis=1, errors=\"ignore\")\n",
    "\n",
    "df_music.head()"
   ]
  },
  {
   "cell_type": "markdown",
   "id": "f31c63c2-64cd-4f40-9317-b97487fdaeb6",
   "metadata": {},
   "source": [
    "# Early Exploration"
   ]
  },
  {
   "cell_type": "code",
   "execution_count": null,
   "id": "d1202f88-d4c8-4606-b319-5cf59f2d0487",
   "metadata": {},
   "outputs": [],
   "source": [
    "df_music.head()"
   ]
  },
  {
   "cell_type": "markdown",
   "id": "9b710905-9656-4fe6-b094-f90deca7bfef",
   "metadata": {},
   "source": [
    "## Quick analysis"
   ]
  },
  {
   "cell_type": "code",
   "execution_count": null,
   "id": "5ca4eb5c-cb78-4306-ac56-c75ec272466e",
   "metadata": {},
   "outputs": [],
   "source": [
    "df_music.info()"
   ]
  },
  {
   "cell_type": "code",
   "execution_count": null,
   "id": "15ac7d8b-726c-41db-abfd-40fd99c5fdff",
   "metadata": {},
   "outputs": [],
   "source": [
    "df_music.describe(include='all')"
   ]
  },
  {
   "cell_type": "markdown",
   "id": "297b40a7-56a7-41bd-862f-af95b7cf1956",
   "metadata": {},
   "source": [
    "Inconsistency:\n",
    "\n",
    "    Unique values for \"ts\" should equal observation count.\n",
    "    Requires looking into."
   ]
  },
  {
   "cell_type": "code",
   "execution_count": null,
   "id": "56089bc2-55c8-4946-a0b1-409ef5010ca6",
   "metadata": {},
   "outputs": [],
   "source": [
    "print(df_music[['master_metadata_track_name']].value_counts().sort_values(ascending=False).head(10))\n",
    "print()\n",
    "print(df_music[['master_metadata_track_name', 'master_metadata_album_artist_name']].value_counts().sort_values(ascending=False).head(10))"
   ]
  },
  {
   "cell_type": "code",
   "execution_count": null,
   "id": "6b4c426d-9cab-436d-9e71-c8a7921978d2",
   "metadata": {},
   "outputs": [],
   "source": [
    "df_music[df_music['master_metadata_track_name']=='Drunken Sailor'][['master_metadata_album_artist_name']].value_counts().sort_values(ascending=False)"
   ]
  },
  {
   "cell_type": "code",
   "execution_count": null,
   "id": "4722e713-a9db-42a4-b7b5-95e412ae3810",
   "metadata": {},
   "outputs": [],
   "source": [
    "df_music[df_music['master_metadata_track_name']=='Spanish Ladies'][['master_metadata_album_artist_name']].value_counts().sort_values(ascending=False)"
   ]
  },
  {
   "cell_type": "code",
   "execution_count": null,
   "id": "ecc02dd6-81e1-491d-9ca5-9d56efb33a02",
   "metadata": {},
   "outputs": [],
   "source": []
  },
  {
   "cell_type": "code",
   "execution_count": null,
   "id": "8893da5e-3c4c-4d5c-b63f-8bf9fe6b14a2",
   "metadata": {},
   "outputs": [],
   "source": []
  },
  {
   "cell_type": "code",
   "execution_count": null,
   "id": "d66d59b5-efd1-4694-aeaa-7f2cf0c4b063",
   "metadata": {},
   "outputs": [],
   "source": []
  },
  {
   "cell_type": "code",
   "execution_count": null,
   "id": "ca0ccf01-a71a-4ec7-9afc-eb7424edbeb8",
   "metadata": {},
   "outputs": [],
   "source": []
  },
  {
   "cell_type": "code",
   "execution_count": null,
   "id": "fdaf8274-a764-4f3e-93ae-9fe951916570",
   "metadata": {},
   "outputs": [],
   "source": []
  }
 ],
 "metadata": {
  "kernelspec": {
   "display_name": "Python 3 (ipykernel)",
   "language": "python",
   "name": "python3"
  },
  "language_info": {
   "codemirror_mode": {
    "name": "ipython",
    "version": 3
   },
   "file_extension": ".py",
   "mimetype": "text/x-python",
   "name": "python",
   "nbconvert_exporter": "python",
   "pygments_lexer": "ipython3",
   "version": "3.11.10"
  }
 },
 "nbformat": 4,
 "nbformat_minor": 5
}
